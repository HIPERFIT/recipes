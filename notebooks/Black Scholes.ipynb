{
 "cells": [
  {
   "cell_type": "code",
   "execution_count": null,
   "metadata": {
    "collapsed": true
   },
   "outputs": [],
   "source": [
    "BlackScholesFormula  <- function (spot,timetomat,strike,r, q=0, sigma, opttype=1, greektype=1)\n",
    "{\n",
    " \n",
    "    d1<-(log(spot/strike)+ ((r-q)+0.5*sigma^2)*timetomat)/(sigma*sqrt(timetomat))\n",
    "    d2<-d1-sigma*sqrt(timetomat)\n",
    " \n",
    "    if (opttype==1 && greektype==1)\n",
    "        result<-spot*exp(-q*timetomat)*pnorm(d1)-strike*exp(-r*timetomat)*pnorm(d2)\n",
    " \n",
    "    if (opttype==2 && greektype==1)\n",
    "        result<-spot*exp(-q*timetomat)*pnorm(d1)-strike*exp(-r*timetomat)*pnorm(d2)-spot*exp(-q*timetomat)+strike*exp(-r*timetomat)\n",
    " \n",
    "    if (opttype==4 && greektype==1)\n",
    "        esult<-(spot^2)*exp((r+sigma^2)*timetomat)\n",
    "    if (opttype==4 && greektype==2)\n",
    "        result<-2*spot*exp((r+sigma^2)*timetomat)\n",
    " \n",
    "    if (opttype==1 && greektype==2)\n",
    "        result<-exp(-q*timetomat)*pnorm(d1)\n",
    " \n",
    "    if (opttype==2 && greektype==2)\n",
    "        result<-exp(-q*timetomat)*(pnorm(d1)-1)\n",
    " \n",
    "    if (greektype==3)\n",
    "        result<-exp(-q*timetomat)*dnorm(d1)/(spot*sigma*sqrt(timetomat))\n",
    " \n",
    "    if (greektype==4)\n",
    "        result<-exp(-q*timetomat)*spot*dnorm(d1)*sqrt(timetomat)\n",
    " \n",
    "    BlackScholesFormula<-result\n",
    "}"
   ]
  },
  {
   "cell_type": "code",
   "execution_count": null,
   "metadata": {
    "collapsed": true
   },
   "outputs": [],
   "source": []
  }
 ],
 "metadata": {
  "kernelspec": {
   "display_name": "R",
   "language": "R",
   "name": "ir"
  },
  "language_info": {
   "codemirror_mode": "r",
   "file_extension": ".r",
   "mimetype": "text/x-r-source",
   "name": "R",
   "pygments_lexer": "r",
   "version": "3.2.2"
  }
 },
 "nbformat": 4,
 "nbformat_minor": 0
}
