{
 "cells": [
  {
   "cell_type": "markdown",
   "metadata": {},
   "source": [
    "Computers deal in fixed-size bit sequences. For instance, a dedicated machine instruction on a so-called \"64-bit machine\" may take two 64-bit sequences as input, and produce a 64-bit sequence as output. If you need more than 64 bits for your intermediate results, you must resort to issueing multiple such (or similar) instructions in sequence.\n",
    "\n",
    "Intuitively, this bears resemblance to a common grade school mantra like:\n",
    "\n",
    "> Doing arithmetic with up to 3-4 decimal places should be sufficient for all practical intents and purposes.\n",
    "\n",
    "The purpose of this notebook is to showcase some practical examples where 64 bits proves insufficient. We take 64 bits since this is default in R. In particular, R uses double-precision binary floating-point numbers. We begin with a brief recap of what that means, more conretely."
   ]
  },
  {
   "cell_type": "markdown",
   "metadata": {
    "collapsed": true
   },
   "source": [
    "## Binary Approximation\n",
    "\n",
    "Computers deal in bit sequences, and so all data must be represented in binary notation, in one way or another.\n",
    "\n",
    "The reader is humbly assumed to be familiar with the classical binary representation of the natural numbers i.e., the numbers 0, 1, 2, 3, ... This is a positional notation, where the symbols `0` or `1` (bits) are put in a sequence, with each position signifying the inclusion of a power of 2, with the most-signficant bit on the left end, and the least-signifcant bit to the right end of the sequence.\n",
    "\n",
    "For instance, the 6-bit sequence `101010` signifies the number\n",
    "\n",
    "\\begin{align}\n",
    "1\\cdot2^5 + 0\\cdot2^4 + 1\\cdot2^3 + 0\\cdot2^2 + 1\\cdot 2^1 + 0 \\cdot 2^0\n",
    "&= 1\\cdot2^5 + 1\\cdot2^3 + 1\\cdot 2^1 \\\\\n",
    "&= 32 + 8 + 2 \\\\\n",
    "&= 42\n",
    "\\end{align}\n",
    "\n",
    "This notation bears structural resemblance to the classical decimal notation we learn in grade school. This too, is a positional notation, except that the symbols are `0`, `1`, `2`, ... , `9` (digits), and a position signifies the magnitude of an inclusion of a power of 10.\n",
    "\n",
    "For instance, the 4-digit sequence `1337` signifies the number\n",
    "\n",
    "\\begin{align}\n",
    "1\\cdot{10}^{3} + 3\\cdot{10}^{2} + 3\\cdot{10}^{1} + 7\\cdot{10}^{0}\n",
    "&= 1000 + 300 + 30 + 7 \\\\\n",
    "&= 1337\n",
    "\\end{align}\n",
    "\n",
    "Classical binary represenation is elegant because there is a one-to-one mapping between natural numbers sequences of bits.\n",
    "\n",
    "This elegance, much like one's spirit in grade school, breaks down with the introduction of fractions. Some fractions have a finite, decimal representation, compossed of a \"decimal\" and a \"fractional\" part, separated by a \"radix point\".\n",
    "\n",
    "Numerically, we extend the powers of 10, right of 0, into the negative.\n",
    "\n",
    "For instance, the 4-digit sequence `13.37` signifies the number\n",
    "\n",
    "\\begin{align}\n",
    "1\\cdot{10}^{1} + 3\\cdot{10}^{0} + 3\\cdot{10}^{-1} + 7\\cdot{10}^{-2}\n",
    "&= 10 + 3 + 0.3 + 0.07 \\\\\n",
    "&= 13.37\n",
    "\\end{align}\n",
    "\n",
    "This representation is useful for numbers where it applies since many standard algorithms, which worked for natural numbers, work for this representation, if we disregard the radix point until the very last.\n",
    "\n",
    "There is no one-to-one mapping between the binary and decimal numbers, as soon as there is a radix point involved.\n",
    "\n",
    "The following sections discuss two classical arithmetics, which are commonly supported directly in computer hardware. \"Direct support\" means that there typically exists a single machine instruction for every single operation we discuss, on most modern CPUs and GPUs.\n",
    "\n",
    "Which (few) numbers can be represented exactly?"
   ]
  },
  {
   "cell_type": "markdown",
   "metadata": {},
   "source": [
    "## Scientific Notation"
   ]
  },
  {
   "cell_type": "markdown",
   "metadata": {},
   "source": [
    "## Combinators\n",
    "\n"
   ]
  },
  {
   "cell_type": "markdown",
   "metadata": {},
   "source": [
    "### Sum"
   ]
  },
  {
   "cell_type": "markdown",
   "metadata": {},
   "source": [
    "Here's a simple implementation of a sum"
   ]
  },
  {
   "cell_type": "code",
   "execution_count": null,
   "metadata": {
    "collapsed": false
   },
   "outputs": [],
   "source": [
    "fpa_sum0 <- function (xs) {\n",
    "    sum <- 0.0\n",
    "    for (x in xs) {\n",
    "        sum <- sum + x;\n",
    "    }\n",
    "    return(sum)\n",
    "}"
   ]
  },
  {
   "cell_type": "markdown",
   "metadata": {},
   "source": [
    "This seems good and dandy for small, and even some fairly large data sets:"
   ]
  },
  {
   "cell_type": "code",
   "execution_count": null,
   "metadata": {
    "collapsed": false
   },
   "outputs": [],
   "source": [
    "lapply(list(\n",
    "    c(0.25, 0.25, 0.25),\n",
    "    rep(0.25,100),\n",
    "    rep(0.25,100000)\n",
    "), fpa_sum0)"
   ]
  },
  {
   "cell_type": "markdown",
   "metadata": {},
   "source": [
    "Yet, it yields some odd results for some fairly small data sets:"
   ]
  },
  {
   "cell_type": "code",
   "execution_count": null,
   "metadata": {
    "collapsed": false
   },
   "outputs": [],
   "source": [
    "lapply(list(\n",
    "    rep(0.1,80),\n",
    "    rep(0.2,120),\n",
    "    rep(0.3,150)\n",
    "), fpa_sum0)"
   ]
  },
  {
   "cell_type": "markdown",
   "metadata": {},
   "source": [
    "Fortunately, if you use the built-in `sum`, you avoid such problems."
   ]
  },
  {
   "cell_type": "code",
   "execution_count": null,
   "metadata": {
    "collapsed": false
   },
   "outputs": [],
   "source": [
    "lapply(list(\n",
    "    c(0.25, 0.25, 0.25),\n",
    "    rep(0.25,100),\n",
    "    rep(0.25,100000)\n",
    "), sum)"
   ]
  },
  {
   "cell_type": "code",
   "execution_count": null,
   "metadata": {
    "collapsed": false
   },
   "outputs": [],
   "source": [
    "lapply(list(\n",
    "    rep(0.1,100),\n",
    "    rep(0.2,150),\n",
    "    rep(0.3,200)\n",
    "), sum)"
   ]
  },
  {
   "cell_type": "markdown",
   "metadata": {},
   "source": [
    "# Conclusion\n",
    "\n",
    "The take-away from this is two-fold:\n",
    "\n",
    "1. Use built-in, or carefully constructed combinators to gain a greater numerical stability.\n",
    "2. Avoid a word-at-a-time style of programming. [(Backus, 1978)](#cite-backus-1978)"
   ]
  },
  {
   "cell_type": "markdown",
   "metadata": {},
   "source": [
    "# References\n",
    "\n",
    "1. <a name=\"cite-backus-1978\"></a>John Backus. 1978. *Can programming be liberated from the von Neumann style? A functional style and its algebra of programs.* Commun. ACM 21, 8 (August 1978), 613-641."
   ]
  },
  {
   "cell_type": "code",
   "execution_count": null,
   "metadata": {
    "collapsed": true
   },
   "outputs": [],
   "source": []
  }
 ],
 "metadata": {
  "kernelspec": {
   "display_name": "R",
   "language": "R",
   "name": "ir"
  },
  "language_info": {
   "codemirror_mode": "r",
   "file_extension": ".r",
   "mimetype": "text/x-r-source",
   "name": "R",
   "pygments_lexer": "r",
   "version": "3.2.2"
  }
 },
 "nbformat": 4,
 "nbformat_minor": 0
}
